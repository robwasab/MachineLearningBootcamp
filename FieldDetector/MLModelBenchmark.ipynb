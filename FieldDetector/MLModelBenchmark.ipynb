{
 "cells": [
  {
   "cell_type": "markdown",
   "id": "4a9e9c4e",
   "metadata": {},
   "source": [
    "## Introduction\n",
    "\n",
    "The goal of this notebook is to baseline standard machine learning models' classifying accuracy against pre-recorded field detector data.\n",
    "\n",
    "Background: The goal of this project is to use machine learning to determine whether or not to shut down transmitted RF power. When transmitting high RF power, it is possible for a person to cross the main beam and become over exposed (according to FCC specific absorbtion limits).\n",
    "\n",
    "This experiment attempted to classify various movements around the transmitter. Three field detectors were placed around a transmitting antenna, and data was recorded using USB microphones at 8kHz (The USB microphones were hacked to record the electrical outputs of the field detectors).\n",
    "\n",
    "<img src=\"field_detector_setup.jpg\">\n",
    "\n",
    "\n",
    "Various movement examples such as walking alongside the transmitter, walking through the main beam, and no movement at all were recorded using the attached script `record_data.py`.\n",
    "\n",
    "The idea was, that we'd prefer the detector to ignore movements such as walking along side the beam (the detector can pick up any sort of movement either inside or outside of the main transmit beam).\n",
    "\n",
    "## Feature Extraction\n",
    "\n",
    "After recording the data at 8kHz, a seperate program `generate_features.py` then goes through each file and computes the features the ML models will then train on. The most important features were the spectral energies in the time series signal. The time series signal is convolved by a series of filter banks, each with a bandwidth of 100Hz. Each filter bank is placed at 0Hz, 100Hz, 200Hz, up to 1.9kHz. \n",
    "\n",
    "Other features that proved less useful were:\n",
    "* max power\n",
    "* variance\n",
    "* 25th quartile power\n",
    "* 50th quartile power (median)\n",
    "* 75th quartile power"
   ]
  },
  {
   "cell_type": "code",
   "execution_count": 9,
   "id": "e0835d96",
   "metadata": {},
   "outputs": [],
   "source": [
    "import numpy as np\n",
    "import pandas as pd\n",
    "import matplotlib.pyplot as plt\n",
    "from matplotlib.lines import Line2D\n",
    "import os\n",
    "\n",
    "pd.set_option('display.max_columns', None)"
   ]
  },
  {
   "cell_type": "markdown",
   "id": "cc821083",
   "metadata": {},
   "source": [
    "## Feature Exploration"
   ]
  },
  {
   "cell_type": "code",
   "execution_count": 10,
   "id": "7f7bbf1a",
   "metadata": {},
   "outputs": [
    {
     "data": {
      "text/html": [
       "<div>\n",
       "<style scoped>\n",
       "    .dataframe tbody tr th:only-of-type {\n",
       "        vertical-align: middle;\n",
       "    }\n",
       "\n",
       "    .dataframe tbody tr th {\n",
       "        vertical-align: top;\n",
       "    }\n",
       "\n",
       "    .dataframe thead th {\n",
       "        text-align: right;\n",
       "    }\n",
       "</style>\n",
       "<table border=\"1\" class=\"dataframe\">\n",
       "  <thead>\n",
       "    <tr style=\"text-align: right;\">\n",
       "      <th></th>\n",
       "      <th>f0</th>\n",
       "      <th>f100</th>\n",
       "      <th>f200</th>\n",
       "      <th>f300</th>\n",
       "      <th>f400</th>\n",
       "      <th>f500</th>\n",
       "      <th>f600</th>\n",
       "      <th>f700</th>\n",
       "      <th>f800</th>\n",
       "      <th>f900</th>\n",
       "      <th>f1000</th>\n",
       "      <th>f1100</th>\n",
       "      <th>f1200</th>\n",
       "      <th>f1300</th>\n",
       "      <th>f1400</th>\n",
       "      <th>f1500</th>\n",
       "      <th>f1600</th>\n",
       "      <th>f1700</th>\n",
       "      <th>f1800</th>\n",
       "      <th>f1900</th>\n",
       "      <th>pwr_max</th>\n",
       "      <th>var</th>\n",
       "      <th>pwr_q25</th>\n",
       "      <th>pwr_q50</th>\n",
       "      <th>qr_q75</th>\n",
       "      <th>label</th>\n",
       "    </tr>\n",
       "  </thead>\n",
       "  <tbody>\n",
       "    <tr>\n",
       "      <th>0</th>\n",
       "      <td>0.911112</td>\n",
       "      <td>0.004727</td>\n",
       "      <td>0.002071</td>\n",
       "      <td>0.003873</td>\n",
       "      <td>0.052405</td>\n",
       "      <td>0.000262</td>\n",
       "      <td>0.000833</td>\n",
       "      <td>0.000452</td>\n",
       "      <td>0.000157</td>\n",
       "      <td>0.000566</td>\n",
       "      <td>0.000043</td>\n",
       "      <td>0.008149</td>\n",
       "      <td>0.000313</td>\n",
       "      <td>0.001012</td>\n",
       "      <td>0.000511</td>\n",
       "      <td>0.000027</td>\n",
       "      <td>0.000483</td>\n",
       "      <td>0.000017</td>\n",
       "      <td>0.000097</td>\n",
       "      <td>0.000197</td>\n",
       "      <td>8.995407</td>\n",
       "      <td>0.314556</td>\n",
       "      <td>0.014331</td>\n",
       "      <td>0.068680</td>\n",
       "      <td>0.254748</td>\n",
       "      <td>WALKTHRU</td>\n",
       "    </tr>\n",
       "    <tr>\n",
       "      <th>1</th>\n",
       "      <td>0.000917</td>\n",
       "      <td>0.068000</td>\n",
       "      <td>0.015259</td>\n",
       "      <td>0.041967</td>\n",
       "      <td>0.683578</td>\n",
       "      <td>0.002068</td>\n",
       "      <td>0.008928</td>\n",
       "      <td>0.004688</td>\n",
       "      <td>0.001499</td>\n",
       "      <td>0.006037</td>\n",
       "      <td>0.000205</td>\n",
       "      <td>0.073069</td>\n",
       "      <td>0.004684</td>\n",
       "      <td>0.010607</td>\n",
       "      <td>0.005743</td>\n",
       "      <td>0.000208</td>\n",
       "      <td>0.005351</td>\n",
       "      <td>0.000097</td>\n",
       "      <td>0.000269</td>\n",
       "      <td>0.003819</td>\n",
       "      <td>1.667806</td>\n",
       "      <td>0.122742</td>\n",
       "      <td>0.019823</td>\n",
       "      <td>0.073919</td>\n",
       "      <td>0.174333</td>\n",
       "      <td>STANDING</td>\n",
       "    </tr>\n",
       "    <tr>\n",
       "      <th>2</th>\n",
       "      <td>0.001373</td>\n",
       "      <td>0.047907</td>\n",
       "      <td>0.023875</td>\n",
       "      <td>0.043445</td>\n",
       "      <td>0.640260</td>\n",
       "      <td>0.003111</td>\n",
       "      <td>0.010533</td>\n",
       "      <td>0.005525</td>\n",
       "      <td>0.001781</td>\n",
       "      <td>0.007179</td>\n",
       "      <td>0.000349</td>\n",
       "      <td>0.106408</td>\n",
       "      <td>0.003722</td>\n",
       "      <td>0.012872</td>\n",
       "      <td>0.006419</td>\n",
       "      <td>0.000280</td>\n",
       "      <td>0.006005</td>\n",
       "      <td>0.000152</td>\n",
       "      <td>0.001427</td>\n",
       "      <td>0.002081</td>\n",
       "      <td>3.025453</td>\n",
       "      <td>0.239939</td>\n",
       "      <td>0.035745</td>\n",
       "      <td>0.135920</td>\n",
       "      <td>0.343509</td>\n",
       "      <td>AMBIENT</td>\n",
       "    </tr>\n",
       "    <tr>\n",
       "      <th>3</th>\n",
       "      <td>0.001627</td>\n",
       "      <td>0.047962</td>\n",
       "      <td>0.023715</td>\n",
       "      <td>0.043592</td>\n",
       "      <td>0.638774</td>\n",
       "      <td>0.003227</td>\n",
       "      <td>0.010552</td>\n",
       "      <td>0.005530</td>\n",
       "      <td>0.001788</td>\n",
       "      <td>0.007091</td>\n",
       "      <td>0.000358</td>\n",
       "      <td>0.106984</td>\n",
       "      <td>0.003690</td>\n",
       "      <td>0.012851</td>\n",
       "      <td>0.006442</td>\n",
       "      <td>0.000261</td>\n",
       "      <td>0.006337</td>\n",
       "      <td>0.000140</td>\n",
       "      <td>0.001371</td>\n",
       "      <td>0.002139</td>\n",
       "      <td>2.550185</td>\n",
       "      <td>0.191672</td>\n",
       "      <td>0.028861</td>\n",
       "      <td>0.109745</td>\n",
       "      <td>0.268482</td>\n",
       "      <td>AMBIENT</td>\n",
       "    </tr>\n",
       "    <tr>\n",
       "      <th>4</th>\n",
       "      <td>0.960934</td>\n",
       "      <td>0.006448</td>\n",
       "      <td>0.000260</td>\n",
       "      <td>0.000581</td>\n",
       "      <td>0.007481</td>\n",
       "      <td>0.000041</td>\n",
       "      <td>0.000106</td>\n",
       "      <td>0.000060</td>\n",
       "      <td>0.000019</td>\n",
       "      <td>0.000073</td>\n",
       "      <td>0.000009</td>\n",
       "      <td>0.001005</td>\n",
       "      <td>0.000042</td>\n",
       "      <td>0.000129</td>\n",
       "      <td>0.000067</td>\n",
       "      <td>0.000003</td>\n",
       "      <td>0.000064</td>\n",
       "      <td>0.000003</td>\n",
       "      <td>0.000014</td>\n",
       "      <td>0.000024</td>\n",
       "      <td>6.833225</td>\n",
       "      <td>0.381678</td>\n",
       "      <td>0.025883</td>\n",
       "      <td>0.106490</td>\n",
       "      <td>0.360203</td>\n",
       "      <td>WALKTHRU</td>\n",
       "    </tr>\n",
       "  </tbody>\n",
       "</table>\n",
       "</div>"
      ],
      "text/plain": [
       "         f0      f100      f200      f300      f400      f500      f600  \\\n",
       "0  0.911112  0.004727  0.002071  0.003873  0.052405  0.000262  0.000833   \n",
       "1  0.000917  0.068000  0.015259  0.041967  0.683578  0.002068  0.008928   \n",
       "2  0.001373  0.047907  0.023875  0.043445  0.640260  0.003111  0.010533   \n",
       "3  0.001627  0.047962  0.023715  0.043592  0.638774  0.003227  0.010552   \n",
       "4  0.960934  0.006448  0.000260  0.000581  0.007481  0.000041  0.000106   \n",
       "\n",
       "       f700      f800      f900     f1000     f1100     f1200     f1300  \\\n",
       "0  0.000452  0.000157  0.000566  0.000043  0.008149  0.000313  0.001012   \n",
       "1  0.004688  0.001499  0.006037  0.000205  0.073069  0.004684  0.010607   \n",
       "2  0.005525  0.001781  0.007179  0.000349  0.106408  0.003722  0.012872   \n",
       "3  0.005530  0.001788  0.007091  0.000358  0.106984  0.003690  0.012851   \n",
       "4  0.000060  0.000019  0.000073  0.000009  0.001005  0.000042  0.000129   \n",
       "\n",
       "      f1400     f1500     f1600     f1700     f1800     f1900   pwr_max  \\\n",
       "0  0.000511  0.000027  0.000483  0.000017  0.000097  0.000197  8.995407   \n",
       "1  0.005743  0.000208  0.005351  0.000097  0.000269  0.003819  1.667806   \n",
       "2  0.006419  0.000280  0.006005  0.000152  0.001427  0.002081  3.025453   \n",
       "3  0.006442  0.000261  0.006337  0.000140  0.001371  0.002139  2.550185   \n",
       "4  0.000067  0.000003  0.000064  0.000003  0.000014  0.000024  6.833225   \n",
       "\n",
       "        var   pwr_q25   pwr_q50    qr_q75     label  \n",
       "0  0.314556  0.014331  0.068680  0.254748  WALKTHRU  \n",
       "1  0.122742  0.019823  0.073919  0.174333  STANDING  \n",
       "2  0.239939  0.035745  0.135920  0.343509   AMBIENT  \n",
       "3  0.191672  0.028861  0.109745  0.268482   AMBIENT  \n",
       "4  0.381678  0.025883  0.106490  0.360203  WALKTHRU  "
      ]
     },
     "execution_count": 10,
     "metadata": {},
     "output_type": "execute_result"
    }
   ],
   "source": [
    "features_dir = os.path.join('RecordedData', 'Features')\n",
    "\n",
    "features_path = os.path.join(features_dir, 'headers.txt')\n",
    "\n",
    "with open(features_path, 'r') as f:\n",
    "    columns = f.readline().split(',')\n",
    "\n",
    "features = [\n",
    "    [\n",
    "        float(val) if col != 'label' else val \n",
    "        for col, val in zip(columns, np.load(os.path.join(features_dir, f)))\n",
    "    ]\n",
    "    \n",
    "    for f in os.listdir(features_dir)\n",
    "    if '.npy' in f\n",
    "]\n",
    "\n",
    "label2val = {\n",
    "    'AMBIENT' : 0,\n",
    "    'STANDING': 1,\n",
    "    'WALKSIDE': 2,\n",
    "    'WALKTHRU': 3,\n",
    "}\n",
    "\n",
    "data = pd.DataFrame(features, columns=columns)\n",
    "data.head()"
   ]
  },
  {
   "cell_type": "code",
   "execution_count": 11,
   "id": "a389cb95",
   "metadata": {},
   "outputs": [],
   "source": [
    "# convert the string label to a numerical label\n",
    "data['y'] = data['label'].apply(lambda label: label2val[label]) "
   ]
  },
  {
   "cell_type": "code",
   "execution_count": 12,
   "id": "15841a39",
   "metadata": {},
   "outputs": [
    {
     "data": {
      "image/png": "[encoded data removed]",
      "text/plain": [
       "<Figure size 432x288 with 1 Axes>"
      ]
     },
     "metadata": {
      "needs_background": "light"
     },
     "output_type": "display_data"
    }
   ],
   "source": [
    "# plot the frequencies versus label\n",
    "freqs = ['f0', 'f100', 'f200', 'f300', 'f400', 'f500', 'f600', 'f700', 'f800', 'f900']\n",
    "\n",
    "x = np.arange(10) * 100\n",
    "\n",
    "colormap = {\n",
    "    0: 'b',\n",
    "    1: 'y',\n",
    "    2: 'g',\n",
    "    3: 'r',\n",
    "}\n",
    "\n",
    "for row in data.iloc:\n",
    "    energies = row[freqs]\n",
    "    label = row['y']\n",
    "    \n",
    "    plt.plot(x, energies.values, 'o', color=colormap[label], alpha=.1)\n",
    "    \n",
    "# have to draw a custom legend\n",
    "custom_lines = [Line2D([0], [0], color='b', lw=4),\n",
    "                Line2D([0], [0], color='y', lw=4),\n",
    "                Line2D([0], [0], color='g', lw=4),\n",
    "                Line2D([0], [0], color='r', lw=4)]\n",
    "\n",
    "plt.gca().legend(custom_lines, ['AMBIENT', 'STANDING', 'WALKSIDE', 'WALKTHRU'])\n",
    "plt.xlabel('Frequency Center [Hz]')\n",
    "plt.ylabel('Spectral Energy');"
   ]
  },
  {
   "cell_type": "code",
   "execution_count": 13,
   "id": "319d27bd",
   "metadata": {},
   "outputs": [
    {
     "data": {
      "image/png": "[encoded data removed]",
      "text/plain": [
       "<Figure size 720x576 with 5 Axes>"
      ]
     },
     "metadata": {
      "needs_background": "light"
     },
     "output_type": "display_data"
    }
   ],
   "source": [
    "# plot the rest of the features against eachother\n",
    "\n",
    "#feats = ['pwr_max', 'var', 'pwr_q25', 'pwr_q50', 'qr_q75']\n",
    "\n",
    "plt.figure(figsize=(10, 8))\n",
    "\n",
    "def plot_feature(f):\n",
    "    for row in data.iloc:\n",
    "        val = row[f]\n",
    "        label = row['y']   \n",
    "        plt.plot(label, val, 'o', color=colormap[label], alpha=.2)\n",
    "\n",
    "    labels = ['AMBIENT', 'STANDING', 'WALKSIDE', 'WALKTHRU']\n",
    "    xticks = [0, 1, 2, 3]\n",
    "    \n",
    "    plt.gca().set_xticks(xticks)\n",
    "    plt.gca().set_xticklabels(labels)\n",
    "    plt.title(f)\n",
    "    \n",
    "\n",
    "plt.subplot(321)\n",
    "plot_feature('pwr_max')\n",
    "\n",
    "plt.subplot(322)\n",
    "plot_feature('var')\n",
    "\n",
    "plt.subplot(323)\n",
    "plot_feature('pwr_q25')\n",
    "\n",
    "plt.subplot(324)\n",
    "plot_feature('pwr_q50')\n",
    "\n",
    "plt.subplot(325)\n",
    "plot_feature('qr_q75')\n",
    "plt.tight_layout()\n"
   ]
  },
  {
   "cell_type": "markdown",
   "id": "94f96b88",
   "metadata": {},
   "source": [
    "### Remarks\n",
    "Doesn't seem like there's a discernable pattern between the labels using statistical data."
   ]
  },
  {
   "cell_type": "markdown",
   "id": "6a90f026",
   "metadata": {},
   "source": [
    "## Thoughts on Model Performance\n",
    "\n",
    "* The estimator should be conservative, meaning we'd prefer it generate more false positives than false negatives. Positive being a field disruption.\n",
    "\n",
    "* That being said, it would be annoying if the field detector triggered positive at random when the system is idling and there is no movement."
   ]
  },
  {
   "cell_type": "markdown",
   "id": "394fab19",
   "metadata": {},
   "source": [
    "## Vanilla SVM Multiclass"
   ]
  },
  {
   "cell_type": "code",
   "execution_count": 14,
   "id": "1fb072d7",
   "metadata": {},
   "outputs": [],
   "source": [
    "from sklearn.model_selection import train_test_split\n",
    "from sklearn.model_selection import KFold\n",
    "from sklearn.metrics import accuracy_score\n",
    "from sklearn.metrics import confusion_matrix\n",
    "from sklearn.metrics import classification_report\n",
    "from sklearn.metrics import f1_score\n",
    "from sklearn.svm import SVC\n",
    "import warnings\n",
    "warnings.filterwarnings('ignore') "
   ]
  },
  {
   "cell_type": "code",
   "execution_count": 15,
   "id": "cd1a1d6d",
   "metadata": {},
   "outputs": [],
   "source": [
    "def evaluate_avg_f1_score(model, X, y):\n",
    "    scores = []\n",
    "    for train, test in KFold(n_splits=3, random_state=42, shuffle=True).split(X):\n",
    "        X_train, y_train = X.iloc[train], y.iloc[train]\n",
    "        X_test, y_test = X.iloc[test], y.iloc[test]\n",
    "        \n",
    "        model.fit(X_train, y_train)\n",
    "        \n",
    "        y_pred = model.predict(X_test)\n",
    "        \n",
    "        score = f1_score(y_test, y_pred, average='weighted')\n",
    "        \n",
    "        scores.append(score)\n",
    "    \n",
    "    return np.average(scores)"
   ]
  },
  {
   "cell_type": "code",
   "execution_count": 16,
   "id": "3c557be5",
   "metadata": {},
   "outputs": [],
   "source": [
    "def pretty_confusion_matrix(y_true, y_pred, class_labels):\n",
    "    cf = pd.DataFrame(\n",
    "        confusion_matrix(\n",
    "            y_true,\n",
    "            y_pred\n",
    "        ), \n",
    "        columns=['Guess ' + l for l in class_labels]\n",
    "    )\n",
    "\n",
    "    cf.index = ['True ' + l for l in class_labels]\n",
    "    return cf\n"
   ]
  },
  {
   "cell_type": "code",
   "execution_count": 17,
   "id": "da87456f",
   "metadata": {},
   "outputs": [],
   "source": [
    "def evaluate_over_all_test_data(model, X, y, class_labels):\n",
    "    X_train, X_test, y_train, y_test = train_test_split(\n",
    "        X, y, test_size=.4, random_state=42)\n",
    "    \n",
    "    model.fit(X_train, y_train)\n",
    "    \n",
    "    y_pred = model.predict(X_test)\n",
    "    \n",
    "    print('Accuracy: ', accuracy_score(y_test, y_pred))\n",
    "\n",
    "    print(classification_report(y_test, y_pred, target_names=class_labels))\n",
    "\n",
    "    return pretty_confusion_matrix(y_test, y_pred, class_labels)"
   ]
  },
  {
   "cell_type": "code",
   "execution_count": 18,
   "id": "7b7c7e3e",
   "metadata": {},
   "outputs": [
    {
     "name": "stdout",
     "output_type": "stream",
     "text": [
      "Accuracy:  0.7777777777777778\n",
      "              precision    recall  f1-score   support\n",
      "\n",
      "     AMBIENT       0.65      1.00      0.79        11\n",
      "    STANDING       0.00      0.00      0.00         5\n",
      "    WALKSIDE       0.00      0.00      0.00         4\n",
      "    WALKTHRU       0.86      0.96      0.91        25\n",
      "\n",
      "    accuracy                           0.78        45\n",
      "   macro avg       0.38      0.49      0.42        45\n",
      "weighted avg       0.63      0.78      0.70        45\n",
      "\n"
     ]
    },
    {
     "data": {
      "text/html": [
       "<div>\n",
       "<style scoped>\n",
       "    .dataframe tbody tr th:only-of-type {\n",
       "        vertical-align: middle;\n",
       "    }\n",
       "\n",
       "    .dataframe tbody tr th {\n",
       "        vertical-align: top;\n",
       "    }\n",
       "\n",
       "    .dataframe thead th {\n",
       "        text-align: right;\n",
       "    }\n",
       "</style>\n",
       "<table border=\"1\" class=\"dataframe\">\n",
       "  <thead>\n",
       "    <tr style=\"text-align: right;\">\n",
       "      <th></th>\n",
       "      <th>Guess AMBIENT</th>\n",
       "      <th>Guess STANDING</th>\n",
       "      <th>Guess WALKSIDE</th>\n",
       "      <th>Guess WALKTHRU</th>\n",
       "    </tr>\n",
       "  </thead>\n",
       "  <tbody>\n",
       "    <tr>\n",
       "      <th>True AMBIENT</th>\n",
       "      <td>11</td>\n",
       "      <td>0</td>\n",
       "      <td>0</td>\n",
       "      <td>0</td>\n",
       "    </tr>\n",
       "    <tr>\n",
       "      <th>True STANDING</th>\n",
       "      <td>5</td>\n",
       "      <td>0</td>\n",
       "      <td>0</td>\n",
       "      <td>0</td>\n",
       "    </tr>\n",
       "    <tr>\n",
       "      <th>True WALKSIDE</th>\n",
       "      <td>0</td>\n",
       "      <td>0</td>\n",
       "      <td>0</td>\n",
       "      <td>4</td>\n",
       "    </tr>\n",
       "    <tr>\n",
       "      <th>True WALKTHRU</th>\n",
       "      <td>1</td>\n",
       "      <td>0</td>\n",
       "      <td>0</td>\n",
       "      <td>24</td>\n",
       "    </tr>\n",
       "  </tbody>\n",
       "</table>\n",
       "</div>"
      ],
      "text/plain": [
       "               Guess AMBIENT  Guess STANDING  Guess WALKSIDE  Guess WALKTHRU\n",
       "True AMBIENT              11               0               0               0\n",
       "True STANDING              5               0               0               0\n",
       "True WALKSIDE              0               0               0               4\n",
       "True WALKTHRU              1               0               0              24"
      ]
     },
     "execution_count": 18,
     "metadata": {},
     "output_type": "execute_result"
    }
   ],
   "source": [
    "# Train a SVM to see how well it does\n",
    "X = data.drop(['label', 'y'], axis=1)\n",
    "y = data['y']\n",
    "\n",
    "class_labels = ['AMBIENT', 'STANDING', 'WALKSIDE', 'WALKTHRU']\n",
    "\n",
    "evaluate_over_all_test_data(SVC(), X, y, class_labels)\n"
   ]
  },
  {
   "cell_type": "code",
   "execution_count": 19,
   "id": "b1a35261",
   "metadata": {},
   "outputs": [
    {
     "data": {
      "text/plain": [
       "0.716950667884454"
      ]
     },
     "execution_count": 19,
     "metadata": {},
     "output_type": "execute_result"
    }
   ],
   "source": [
    "evaluate_avg_f1_score(SVC(), X, y)"
   ]
  },
  {
   "cell_type": "markdown",
   "id": "a4588272",
   "metadata": {},
   "source": [
    "## SVM with less features, Multiclass\n"
   ]
  },
  {
   "cell_type": "code",
   "execution_count": 20,
   "id": "c403eb76",
   "metadata": {},
   "outputs": [
    {
     "name": "stdout",
     "output_type": "stream",
     "text": [
      "Accuracy:  0.8666666666666667\n",
      "              precision    recall  f1-score   support\n",
      "\n",
      "     AMBIENT       0.69      1.00      0.81        11\n",
      "    STANDING       0.00      0.00      0.00         5\n",
      "    WALKSIDE       0.80      1.00      0.89         4\n",
      "    WALKTHRU       1.00      0.96      0.98        25\n",
      "\n",
      "    accuracy                           0.87        45\n",
      "   macro avg       0.62      0.74      0.67        45\n",
      "weighted avg       0.79      0.87      0.82        45\n",
      "\n"
     ]
    },
    {
     "data": {
      "text/html": [
       "<div>\n",
       "<style scoped>\n",
       "    .dataframe tbody tr th:only-of-type {\n",
       "        vertical-align: middle;\n",
       "    }\n",
       "\n",
       "    .dataframe tbody tr th {\n",
       "        vertical-align: top;\n",
       "    }\n",
       "\n",
       "    .dataframe thead th {\n",
       "        text-align: right;\n",
       "    }\n",
       "</style>\n",
       "<table border=\"1\" class=\"dataframe\">\n",
       "  <thead>\n",
       "    <tr style=\"text-align: right;\">\n",
       "      <th></th>\n",
       "      <th>Guess AMBIENT</th>\n",
       "      <th>Guess STANDING</th>\n",
       "      <th>Guess WALKSIDE</th>\n",
       "      <th>Guess WALKTHRU</th>\n",
       "    </tr>\n",
       "  </thead>\n",
       "  <tbody>\n",
       "    <tr>\n",
       "      <th>True AMBIENT</th>\n",
       "      <td>11</td>\n",
       "      <td>0</td>\n",
       "      <td>0</td>\n",
       "      <td>0</td>\n",
       "    </tr>\n",
       "    <tr>\n",
       "      <th>True STANDING</th>\n",
       "      <td>5</td>\n",
       "      <td>0</td>\n",
       "      <td>0</td>\n",
       "      <td>0</td>\n",
       "    </tr>\n",
       "    <tr>\n",
       "      <th>True WALKSIDE</th>\n",
       "      <td>0</td>\n",
       "      <td>0</td>\n",
       "      <td>4</td>\n",
       "      <td>0</td>\n",
       "    </tr>\n",
       "    <tr>\n",
       "      <th>True WALKTHRU</th>\n",
       "      <td>0</td>\n",
       "      <td>0</td>\n",
       "      <td>1</td>\n",
       "      <td>24</td>\n",
       "    </tr>\n",
       "  </tbody>\n",
       "</table>\n",
       "</div>"
      ],
      "text/plain": [
       "               Guess AMBIENT  Guess STANDING  Guess WALKSIDE  Guess WALKTHRU\n",
       "True AMBIENT              11               0               0               0\n",
       "True STANDING              5               0               0               0\n",
       "True WALKSIDE              0               0               4               0\n",
       "True WALKTHRU              0               0               1              24"
      ]
     },
     "execution_count": 20,
     "metadata": {},
     "output_type": "execute_result"
    }
   ],
   "source": [
    "# Train a SVM to see how well it does\n",
    "\n",
    "freqs = ['f0', 'f100', 'f200', 'f300', 'f400', 'f500', 'f600', 'f700', 'f800', 'f900']\n",
    "\n",
    "class_labels = ['AMBIENT', 'STANDING', 'WALKSIDE', 'WALKTHRU']\n",
    "\n",
    "evaluate_over_all_test_data(SVC(), X[freqs], y, class_labels)\n"
   ]
  },
  {
   "cell_type": "code",
   "execution_count": 21,
   "id": "c7b1ffde",
   "metadata": {},
   "outputs": [
    {
     "data": {
      "text/plain": [
       "0.8732134442461813"
      ]
     },
     "execution_count": 21,
     "metadata": {},
     "output_type": "execute_result"
    }
   ],
   "source": [
    "evaluate_avg_f1_score(SVC(), X[freqs], y)"
   ]
  },
  {
   "cell_type": "markdown",
   "id": "b0437615",
   "metadata": {},
   "source": [
    "### Remarks\n",
    "Performance increases if we only use meaningful features"
   ]
  },
  {
   "cell_type": "markdown",
   "id": "1c6e3719",
   "metadata": {},
   "source": [
    "## SVM - Less Sensitive to Out of Field Movement, Binary\n"
   ]
  },
  {
   "cell_type": "code",
   "execution_count": 22,
   "id": "ef4bbf91",
   "metadata": {},
   "outputs": [
    {
     "name": "stdout",
     "output_type": "stream",
     "text": [
      "Accuracy:  0.9777777777777777\n",
      "              precision    recall  f1-score   support\n",
      "\n",
      "        IDLE       0.95      1.00      0.98        20\n",
      "        TRIG       1.00      0.96      0.98        25\n",
      "\n",
      "    accuracy                           0.98        45\n",
      "   macro avg       0.98      0.98      0.98        45\n",
      "weighted avg       0.98      0.98      0.98        45\n",
      "\n"
     ]
    },
    {
     "data": {
      "text/html": [
       "<div>\n",
       "<style scoped>\n",
       "    .dataframe tbody tr th:only-of-type {\n",
       "        vertical-align: middle;\n",
       "    }\n",
       "\n",
       "    .dataframe tbody tr th {\n",
       "        vertical-align: top;\n",
       "    }\n",
       "\n",
       "    .dataframe thead th {\n",
       "        text-align: right;\n",
       "    }\n",
       "</style>\n",
       "<table border=\"1\" class=\"dataframe\">\n",
       "  <thead>\n",
       "    <tr style=\"text-align: right;\">\n",
       "      <th></th>\n",
       "      <th>Guess IDLE</th>\n",
       "      <th>Guess TRIG</th>\n",
       "    </tr>\n",
       "  </thead>\n",
       "  <tbody>\n",
       "    <tr>\n",
       "      <th>True IDLE</th>\n",
       "      <td>20</td>\n",
       "      <td>0</td>\n",
       "    </tr>\n",
       "    <tr>\n",
       "      <th>True TRIG</th>\n",
       "      <td>1</td>\n",
       "      <td>24</td>\n",
       "    </tr>\n",
       "  </tbody>\n",
       "</table>\n",
       "</div>"
      ],
      "text/plain": [
       "           Guess IDLE  Guess TRIG\n",
       "True IDLE          20           0\n",
       "True TRIG           1          24"
      ]
     },
     "execution_count": 22,
     "metadata": {},
     "output_type": "execute_result"
    }
   ],
   "source": [
    "label2disrupted = {\n",
    "    'AMBIENT'  : 0,\n",
    "    'STANDING' : 0,\n",
    "    'WALKSIDE' : 0,\n",
    "    'WALKTHRU' : 1,\n",
    "}\n",
    "\n",
    "X = data.drop(['label', 'y'], axis=1)\n",
    "y = data['y']\n",
    "\n",
    "y_reduced = data['label'].apply(lambda x: label2disrupted[x])\n",
    "\n",
    "class_labels = ['IDLE', 'TRIG']\n",
    "\n",
    "evaluate_over_all_test_data(SVC(), X[freqs], y_reduced, class_labels)\n"
   ]
  },
  {
   "cell_type": "code",
   "execution_count": 23,
   "id": "bc369612",
   "metadata": {},
   "outputs": [
    {
     "data": {
      "text/plain": [
       "0.9550079891543305"
      ]
     },
     "execution_count": 23,
     "metadata": {},
     "output_type": "execute_result"
    }
   ],
   "source": [
    "evaluate_avg_f1_score(SVC(), X[freqs], y_reduced)"
   ]
  },
  {
   "cell_type": "markdown",
   "id": "19644725",
   "metadata": {},
   "source": [
    "### Remarks\n",
    "\n",
    "Moved class labels standing and walking along the side of the field detector to ambient to make the detector more immune to false triggers. \n",
    "\n",
    "This means, to get it to trigger, you have to really mean it."
   ]
  },
  {
   "cell_type": "markdown",
   "id": "390b2e33",
   "metadata": {},
   "source": [
    "## SVM - Very Sensitive, Binary"
   ]
  },
  {
   "cell_type": "code",
   "execution_count": 24,
   "id": "fff64259",
   "metadata": {},
   "outputs": [
    {
     "name": "stdout",
     "output_type": "stream",
     "text": [
      "Accuracy:  1.0\n",
      "              precision    recall  f1-score   support\n",
      "\n",
      "        IDLE       1.00      1.00      1.00        16\n",
      "        TRIG       1.00      1.00      1.00        29\n",
      "\n",
      "    accuracy                           1.00        45\n",
      "   macro avg       1.00      1.00      1.00        45\n",
      "weighted avg       1.00      1.00      1.00        45\n",
      "\n"
     ]
    },
    {
     "data": {
      "text/html": [
       "<div>\n",
       "<style scoped>\n",
       "    .dataframe tbody tr th:only-of-type {\n",
       "        vertical-align: middle;\n",
       "    }\n",
       "\n",
       "    .dataframe tbody tr th {\n",
       "        vertical-align: top;\n",
       "    }\n",
       "\n",
       "    .dataframe thead th {\n",
       "        text-align: right;\n",
       "    }\n",
       "</style>\n",
       "<table border=\"1\" class=\"dataframe\">\n",
       "  <thead>\n",
       "    <tr style=\"text-align: right;\">\n",
       "      <th></th>\n",
       "      <th>Guess IDLE</th>\n",
       "      <th>Guess TRIG</th>\n",
       "    </tr>\n",
       "  </thead>\n",
       "  <tbody>\n",
       "    <tr>\n",
       "      <th>True IDLE</th>\n",
       "      <td>16</td>\n",
       "      <td>0</td>\n",
       "    </tr>\n",
       "    <tr>\n",
       "      <th>True TRIG</th>\n",
       "      <td>0</td>\n",
       "      <td>29</td>\n",
       "    </tr>\n",
       "  </tbody>\n",
       "</table>\n",
       "</div>"
      ],
      "text/plain": [
       "           Guess IDLE  Guess TRIG\n",
       "True IDLE          16           0\n",
       "True TRIG           0          29"
      ]
     },
     "execution_count": 24,
     "metadata": {},
     "output_type": "execute_result"
    }
   ],
   "source": [
    "label2disrupted = {\n",
    "    'AMBIENT'  : 0,\n",
    "    'STANDING' : 0,\n",
    "    'WALKSIDE' : 1,\n",
    "    'WALKTHRU' : 1,\n",
    "}\n",
    "\n",
    "X = data.drop(['label', 'y'], axis=1)\n",
    "y = data['y']\n",
    "\n",
    "y_reduced = data['label'].apply(lambda x: label2disrupted[x])\n",
    "\n",
    "class_labels = ['IDLE', 'TRIG']\n",
    "\n",
    "y_reduced.value_counts()\n",
    "evaluate_over_all_test_data(SVC(), X[freqs], y_reduced, class_labels)\n"
   ]
  },
  {
   "cell_type": "code",
   "execution_count": 25,
   "id": "1e86be8a",
   "metadata": {},
   "outputs": [
    {
     "data": {
      "text/plain": [
       "1.0"
      ]
     },
     "execution_count": 25,
     "metadata": {},
     "output_type": "execute_result"
    }
   ],
   "source": [
    "evaluate_avg_f1_score(SVC(), X[freqs], y_reduced)"
   ]
  },
  {
   "cell_type": "markdown",
   "id": "8e0839a4",
   "metadata": {},
   "source": [
    "### Remarks\n",
    "\n",
    "The classifier gets all of the test data points correct when we make it sensitive to field disturbances outside of the main beam."
   ]
  },
  {
   "cell_type": "markdown",
   "id": "2ea3ca1c",
   "metadata": {},
   "source": [
    "## Logistic Regression - Immune to Out of Field Disturbances\n"
   ]
  },
  {
   "cell_type": "code",
   "execution_count": 27,
   "id": "42490b46",
   "metadata": {},
   "outputs": [],
   "source": [
    "from sklearn.linear_model import LogisticRegression\n",
    "from sklearn.metrics import roc_curve"
   ]
  },
  {
   "cell_type": "code",
   "execution_count": 29,
   "id": "a6b54ecc",
   "metadata": {},
   "outputs": [
    {
     "name": "stdout",
     "output_type": "stream",
     "text": [
      "Accuracy:  0.9333333333333333\n",
      "              precision    recall  f1-score   support\n",
      "\n",
      "        IDLE       1.00      0.85      0.92        20\n",
      "        TRIG       0.89      1.00      0.94        25\n",
      "\n",
      "    accuracy                           0.93        45\n",
      "   macro avg       0.95      0.93      0.93        45\n",
      "weighted avg       0.94      0.93      0.93        45\n",
      "\n"
     ]
    },
    {
     "data": {
      "text/html": [
       "<div>\n",
       "<style scoped>\n",
       "    .dataframe tbody tr th:only-of-type {\n",
       "        vertical-align: middle;\n",
       "    }\n",
       "\n",
       "    .dataframe tbody tr th {\n",
       "        vertical-align: top;\n",
       "    }\n",
       "\n",
       "    .dataframe thead th {\n",
       "        text-align: right;\n",
       "    }\n",
       "</style>\n",
       "<table border=\"1\" class=\"dataframe\">\n",
       "  <thead>\n",
       "    <tr style=\"text-align: right;\">\n",
       "      <th></th>\n",
       "      <th>Guess IDLE</th>\n",
       "      <th>Guess TRIG</th>\n",
       "    </tr>\n",
       "  </thead>\n",
       "  <tbody>\n",
       "    <tr>\n",
       "      <th>True IDLE</th>\n",
       "      <td>17</td>\n",
       "      <td>3</td>\n",
       "    </tr>\n",
       "    <tr>\n",
       "      <th>True TRIG</th>\n",
       "      <td>0</td>\n",
       "      <td>25</td>\n",
       "    </tr>\n",
       "  </tbody>\n",
       "</table>\n",
       "</div>"
      ],
      "text/plain": [
       "           Guess IDLE  Guess TRIG\n",
       "True IDLE          17           3\n",
       "True TRIG           0          25"
      ]
     },
     "execution_count": 29,
     "metadata": {},
     "output_type": "execute_result"
    }
   ],
   "source": [
    "label2disrupted = {\n",
    "    'AMBIENT'  : 0,\n",
    "    'STANDING' : 0,\n",
    "    'WALKSIDE' : 0,\n",
    "    'WALKTHRU' : 1,\n",
    "}\n",
    "\n",
    "X = data.drop(['label', 'y'], axis=1)\n",
    "y = data['y']\n",
    "\n",
    "y_reduced = data['label'].apply(lambda x: label2disrupted[x])\n",
    "\n",
    "class_labels = ['IDLE', 'TRIG']\n",
    "\n",
    "evaluate_over_all_test_data(LogisticRegression(), X[freqs], y_reduced, class_labels)\n"
   ]
  },
  {
   "cell_type": "markdown",
   "id": "4558fb82",
   "metadata": {},
   "source": [
    "### Remark\n",
    "The classifier is very sensitive and prone to giving false triggers. It is trigger happy."
   ]
  },
  {
   "cell_type": "code",
   "execution_count": 30,
   "id": "f8433765",
   "metadata": {},
   "outputs": [
    {
     "data": {
      "text/plain": [
       "0.8902757076373077"
      ]
     },
     "execution_count": 30,
     "metadata": {},
     "output_type": "execute_result"
    }
   ],
   "source": [
    "evaluate_avg_f1_score(LogisticRegression(), X[freqs], y_reduced)"
   ]
  },
  {
   "cell_type": "code",
   "execution_count": 31,
   "id": "db0815f1",
   "metadata": {},
   "outputs": [],
   "source": [
    "def plot_roc_curve(model, X, y):\n",
    "    # plot the auc curve to determine which threshold to use\n",
    "    X_train, X_test, y_train, y_test = train_test_split(\n",
    "        X, y, test_size=.4, random_state=42)\n",
    "\n",
    "    model.fit(X_train, y_train)\n",
    "    \n",
    "    y_prob = model.predict_proba(X_test)\n",
    "    \n",
    "    fpr, tpr, thresholds = roc_curve(y_test, y_prob[:, -1])\n",
    "    \n",
    "    print('thresholds: ', thresholds)\n",
    "    \n",
    "    plt.plot(fpr, tpr, '.')\n",
    "    plt.xlabel('False positive rate')\n",
    "    plt.ylabel('Recall')\n",
    "    plt.grid(True)"
   ]
  },
  {
   "cell_type": "code",
   "execution_count": 32,
   "id": "52423570",
   "metadata": {},
   "outputs": [
    {
     "name": "stdout",
     "output_type": "stream",
     "text": [
      "thresholds:  [1.82943442 0.82943442 0.67236092 0.56959755 0.55049108 0.09052706]\n"
     ]
    },
    {
     "data": {
      "image/png": "[encoded data removed]",
      "text/plain": [
       "<Figure size 432x288 with 1 Axes>"
      ]
     },
     "metadata": {
      "needs_background": "light"
     },
     "output_type": "display_data"
    }
   ],
   "source": [
    "plot_roc_curve(LogisticRegression(), X[freqs], y_reduced)"
   ]
  },
  {
   "cell_type": "markdown",
   "id": "ecd0ab0c",
   "metadata": {},
   "source": [
    "## Logistic Regression - Very Sensitive"
   ]
  },
  {
   "cell_type": "code",
   "execution_count": 33,
   "id": "3fc257c7",
   "metadata": {},
   "outputs": [
    {
     "name": "stdout",
     "output_type": "stream",
     "text": [
      "Accuracy:  1.0\n",
      "              precision    recall  f1-score   support\n",
      "\n",
      "        IDLE       1.00      1.00      1.00        16\n",
      "        TRIG       1.00      1.00      1.00        29\n",
      "\n",
      "    accuracy                           1.00        45\n",
      "   macro avg       1.00      1.00      1.00        45\n",
      "weighted avg       1.00      1.00      1.00        45\n",
      "\n"
     ]
    },
    {
     "data": {
      "text/html": [
       "<div>\n",
       "<style scoped>\n",
       "    .dataframe tbody tr th:only-of-type {\n",
       "        vertical-align: middle;\n",
       "    }\n",
       "\n",
       "    .dataframe tbody tr th {\n",
       "        vertical-align: top;\n",
       "    }\n",
       "\n",
       "    .dataframe thead th {\n",
       "        text-align: right;\n",
       "    }\n",
       "</style>\n",
       "<table border=\"1\" class=\"dataframe\">\n",
       "  <thead>\n",
       "    <tr style=\"text-align: right;\">\n",
       "      <th></th>\n",
       "      <th>Guess IDLE</th>\n",
       "      <th>Guess TRIG</th>\n",
       "    </tr>\n",
       "  </thead>\n",
       "  <tbody>\n",
       "    <tr>\n",
       "      <th>True IDLE</th>\n",
       "      <td>16</td>\n",
       "      <td>0</td>\n",
       "    </tr>\n",
       "    <tr>\n",
       "      <th>True TRIG</th>\n",
       "      <td>0</td>\n",
       "      <td>29</td>\n",
       "    </tr>\n",
       "  </tbody>\n",
       "</table>\n",
       "</div>"
      ],
      "text/plain": [
       "           Guess IDLE  Guess TRIG\n",
       "True IDLE          16           0\n",
       "True TRIG           0          29"
      ]
     },
     "execution_count": 33,
     "metadata": {},
     "output_type": "execute_result"
    }
   ],
   "source": [
    "label2disrupted = {\n",
    "    'AMBIENT'  : 0,\n",
    "    'STANDING' : 0,\n",
    "    'WALKSIDE' : 1,\n",
    "    'WALKTHRU' : 1,\n",
    "}\n",
    "\n",
    "X = data.drop(['label', 'y'], axis=1)\n",
    "y = data['y']\n",
    "\n",
    "y_reduced = data['label'].apply(lambda x: label2disrupted[x])\n",
    "\n",
    "class_labels = ['IDLE', 'TRIG']\n",
    "\n",
    "evaluate_over_all_test_data(LogisticRegression(), X[freqs], y_reduced, class_labels)"
   ]
  },
  {
   "cell_type": "code",
   "execution_count": 35,
   "id": "41616cc4",
   "metadata": {},
   "outputs": [
    {
     "data": {
      "text/plain": [
       "1.0"
      ]
     },
     "execution_count": 35,
     "metadata": {},
     "output_type": "execute_result"
    }
   ],
   "source": [
    "evaluate_avg_f1_score(LogisticRegression(), X[freqs], y_reduced)"
   ]
  },
  {
   "cell_type": "markdown",
   "id": "633a11f8",
   "metadata": {},
   "source": [
    "### Remarks\n",
    "The classifier gets everything right when we make it sensitive to all field movements"
   ]
  },
  {
   "cell_type": "code",
   "execution_count": 36,
   "id": "ad0515c3",
   "metadata": {},
   "outputs": [
    {
     "name": "stdout",
     "output_type": "stream",
     "text": [
      "thresholds:  [1.94628474 0.94628474 0.79143904 0.14825533]\n"
     ]
    },
    {
     "data": {
      "image/png": "[encoded data removed]",
      "text/plain": [
       "<Figure size 432x288 with 1 Axes>"
      ]
     },
     "metadata": {
      "needs_background": "light"
     },
     "output_type": "display_data"
    }
   ],
   "source": [
    "plot_roc_curve(LogisticRegression(), X[freqs], y_reduced)"
   ]
  },
  {
   "cell_type": "markdown",
   "id": "7c894593",
   "metadata": {},
   "source": [
    "## Naive Bayes, Multiclass"
   ]
  },
  {
   "cell_type": "markdown",
   "id": "245c423e",
   "metadata": {},
   "source": [
    "Treat each frequency bin as a gaussian random variable independent from one another"
   ]
  },
  {
   "cell_type": "code",
   "execution_count": 37,
   "id": "73c18176",
   "metadata": {},
   "outputs": [],
   "source": [
    "from sklearn.naive_bayes import GaussianNB"
   ]
  },
  {
   "cell_type": "code",
   "execution_count": 38,
   "id": "19d455d1",
   "metadata": {},
   "outputs": [
    {
     "name": "stdout",
     "output_type": "stream",
     "text": [
      "Accuracy:  0.9555555555555556\n",
      "              precision    recall  f1-score   support\n",
      "\n",
      "     AMBIENT       1.00      1.00      1.00        11\n",
      "    STANDING       1.00      0.80      0.89         5\n",
      "    WALKSIDE       0.80      1.00      0.89         4\n",
      "    WALKTHRU       0.96      0.96      0.96        25\n",
      "\n",
      "    accuracy                           0.96        45\n",
      "   macro avg       0.94      0.94      0.93        45\n",
      "weighted avg       0.96      0.96      0.96        45\n",
      "\n"
     ]
    },
    {
     "data": {
      "text/html": [
       "<div>\n",
       "<style scoped>\n",
       "    .dataframe tbody tr th:only-of-type {\n",
       "        vertical-align: middle;\n",
       "    }\n",
       "\n",
       "    .dataframe tbody tr th {\n",
       "        vertical-align: top;\n",
       "    }\n",
       "\n",
       "    .dataframe thead th {\n",
       "        text-align: right;\n",
       "    }\n",
       "</style>\n",
       "<table border=\"1\" class=\"dataframe\">\n",
       "  <thead>\n",
       "    <tr style=\"text-align: right;\">\n",
       "      <th></th>\n",
       "      <th>Guess AMBIENT</th>\n",
       "      <th>Guess STANDING</th>\n",
       "      <th>Guess WALKSIDE</th>\n",
       "      <th>Guess WALKTHRU</th>\n",
       "    </tr>\n",
       "  </thead>\n",
       "  <tbody>\n",
       "    <tr>\n",
       "      <th>True AMBIENT</th>\n",
       "      <td>11</td>\n",
       "      <td>0</td>\n",
       "      <td>0</td>\n",
       "      <td>0</td>\n",
       "    </tr>\n",
       "    <tr>\n",
       "      <th>True STANDING</th>\n",
       "      <td>0</td>\n",
       "      <td>4</td>\n",
       "      <td>0</td>\n",
       "      <td>1</td>\n",
       "    </tr>\n",
       "    <tr>\n",
       "      <th>True WALKSIDE</th>\n",
       "      <td>0</td>\n",
       "      <td>0</td>\n",
       "      <td>4</td>\n",
       "      <td>0</td>\n",
       "    </tr>\n",
       "    <tr>\n",
       "      <th>True WALKTHRU</th>\n",
       "      <td>0</td>\n",
       "      <td>0</td>\n",
       "      <td>1</td>\n",
       "      <td>24</td>\n",
       "    </tr>\n",
       "  </tbody>\n",
       "</table>\n",
       "</div>"
      ],
      "text/plain": [
       "               Guess AMBIENT  Guess STANDING  Guess WALKSIDE  Guess WALKTHRU\n",
       "True AMBIENT              11               0               0               0\n",
       "True STANDING              0               4               0               1\n",
       "True WALKSIDE              0               0               4               0\n",
       "True WALKTHRU              0               0               1              24"
      ]
     },
     "execution_count": 38,
     "metadata": {},
     "output_type": "execute_result"
    }
   ],
   "source": [
    "X = data.drop(['label', 'y'], axis=1)\n",
    "y = data['y']\n",
    "\n",
    "class_labels = ['AMBIENT', 'STANDING', 'WALKSIDE', 'WALKTHRU']\n",
    "\n",
    "evaluate_over_all_test_data(GaussianNB(), X[freqs], y, class_labels)\n"
   ]
  },
  {
   "cell_type": "code",
   "execution_count": 39,
   "id": "2b44bafc",
   "metadata": {},
   "outputs": [
    {
     "data": {
      "text/plain": [
       "0.9629167970631385"
      ]
     },
     "execution_count": 39,
     "metadata": {},
     "output_type": "execute_result"
    }
   ],
   "source": [
    "evaluate_avg_f1_score(GaussianNB(), X[freqs], y)"
   ]
  },
  {
   "cell_type": "markdown",
   "id": "9ae4aeb0",
   "metadata": {},
   "source": [
    "### Remarks\n",
    "Wow, naive bayes performs really well for multi-classification"
   ]
  },
  {
   "cell_type": "markdown",
   "id": "e5bb2ef3",
   "metadata": {},
   "source": [
    "## Naive Bayes, Less Sensitive, Binary"
   ]
  },
  {
   "cell_type": "code",
   "execution_count": 40,
   "id": "51612ebe",
   "metadata": {},
   "outputs": [
    {
     "name": "stdout",
     "output_type": "stream",
     "text": [
      "Accuracy:  0.9111111111111111\n",
      "              precision    recall  f1-score   support\n",
      "\n",
      "        IDLE       0.94      0.85      0.89        20\n",
      "        TRIG       0.89      0.96      0.92        25\n",
      "\n",
      "    accuracy                           0.91        45\n",
      "   macro avg       0.92      0.91      0.91        45\n",
      "weighted avg       0.91      0.91      0.91        45\n",
      "\n"
     ]
    },
    {
     "data": {
      "text/html": [
       "<div>\n",
       "<style scoped>\n",
       "    .dataframe tbody tr th:only-of-type {\n",
       "        vertical-align: middle;\n",
       "    }\n",
       "\n",
       "    .dataframe tbody tr th {\n",
       "        vertical-align: top;\n",
       "    }\n",
       "\n",
       "    .dataframe thead th {\n",
       "        text-align: right;\n",
       "    }\n",
       "</style>\n",
       "<table border=\"1\" class=\"dataframe\">\n",
       "  <thead>\n",
       "    <tr style=\"text-align: right;\">\n",
       "      <th></th>\n",
       "      <th>Guess IDLE</th>\n",
       "      <th>Guess TRIG</th>\n",
       "    </tr>\n",
       "  </thead>\n",
       "  <tbody>\n",
       "    <tr>\n",
       "      <th>True IDLE</th>\n",
       "      <td>17</td>\n",
       "      <td>3</td>\n",
       "    </tr>\n",
       "    <tr>\n",
       "      <th>True TRIG</th>\n",
       "      <td>1</td>\n",
       "      <td>24</td>\n",
       "    </tr>\n",
       "  </tbody>\n",
       "</table>\n",
       "</div>"
      ],
      "text/plain": [
       "           Guess IDLE  Guess TRIG\n",
       "True IDLE          17           3\n",
       "True TRIG           1          24"
      ]
     },
     "execution_count": 40,
     "metadata": {},
     "output_type": "execute_result"
    }
   ],
   "source": [
    "label2disrupted = {\n",
    "    'AMBIENT'  : 0,\n",
    "    'STANDING' : 0,\n",
    "    'WALKSIDE' : 0,\n",
    "    'WALKTHRU' : 1,\n",
    "}\n",
    "\n",
    "X = data.drop(['label', 'y'], axis=1)\n",
    "y = data['y']\n",
    "\n",
    "y_reduced = data['label'].apply(lambda x: label2disrupted[x])\n",
    "\n",
    "class_labels = ['IDLE', 'TRIG']\n",
    "\n",
    "evaluate_over_all_test_data(GaussianNB(), X[freqs], y_reduced, class_labels)\n"
   ]
  },
  {
   "cell_type": "code",
   "execution_count": 41,
   "id": "5cdf1fd9",
   "metadata": {},
   "outputs": [
    {
     "data": {
      "text/plain": [
       "0.8636782886782887"
      ]
     },
     "execution_count": 41,
     "metadata": {},
     "output_type": "execute_result"
    }
   ],
   "source": [
    "evaluate_avg_f1_score(GaussianNB(), X[freqs], y_reduced)"
   ]
  },
  {
   "cell_type": "markdown",
   "id": "2f79a27a",
   "metadata": {},
   "source": [
    "## Naive Bayes, Sensitive, Binary"
   ]
  },
  {
   "cell_type": "code",
   "execution_count": 42,
   "id": "d1a56d0c",
   "metadata": {},
   "outputs": [
    {
     "name": "stdout",
     "output_type": "stream",
     "text": [
      "Accuracy:  0.9777777777777777\n",
      "              precision    recall  f1-score   support\n",
      "\n",
      "        IDLE       1.00      0.94      0.97        16\n",
      "        TRIG       0.97      1.00      0.98        29\n",
      "\n",
      "    accuracy                           0.98        45\n",
      "   macro avg       0.98      0.97      0.98        45\n",
      "weighted avg       0.98      0.98      0.98        45\n",
      "\n"
     ]
    },
    {
     "data": {
      "text/html": [
       "<div>\n",
       "<style scoped>\n",
       "    .dataframe tbody tr th:only-of-type {\n",
       "        vertical-align: middle;\n",
       "    }\n",
       "\n",
       "    .dataframe tbody tr th {\n",
       "        vertical-align: top;\n",
       "    }\n",
       "\n",
       "    .dataframe thead th {\n",
       "        text-align: right;\n",
       "    }\n",
       "</style>\n",
       "<table border=\"1\" class=\"dataframe\">\n",
       "  <thead>\n",
       "    <tr style=\"text-align: right;\">\n",
       "      <th></th>\n",
       "      <th>Guess IDLE</th>\n",
       "      <th>Guess TRIG</th>\n",
       "    </tr>\n",
       "  </thead>\n",
       "  <tbody>\n",
       "    <tr>\n",
       "      <th>True IDLE</th>\n",
       "      <td>15</td>\n",
       "      <td>1</td>\n",
       "    </tr>\n",
       "    <tr>\n",
       "      <th>True TRIG</th>\n",
       "      <td>0</td>\n",
       "      <td>29</td>\n",
       "    </tr>\n",
       "  </tbody>\n",
       "</table>\n",
       "</div>"
      ],
      "text/plain": [
       "           Guess IDLE  Guess TRIG\n",
       "True IDLE          15           1\n",
       "True TRIG           0          29"
      ]
     },
     "execution_count": 42,
     "metadata": {},
     "output_type": "execute_result"
    }
   ],
   "source": [
    "label2disrupted = {\n",
    "    'AMBIENT'  : 0,\n",
    "    'STANDING' : 0,\n",
    "    'WALKSIDE' : 1,\n",
    "    'WALKTHRU' : 1,\n",
    "}\n",
    "\n",
    "X = data.drop(['label', 'y'], axis=1)\n",
    "y = data['y']\n",
    "\n",
    "y_reduced = data['label'].apply(lambda x: label2disrupted[x])\n",
    "\n",
    "class_labels = ['IDLE', 'TRIG']\n",
    "\n",
    "evaluate_over_all_test_data(GaussianNB(), X[freqs], y_reduced, class_labels)\n"
   ]
  },
  {
   "cell_type": "code",
   "execution_count": 43,
   "id": "34af0e70",
   "metadata": {},
   "outputs": [
    {
     "data": {
      "text/plain": [
       "1.0"
      ]
     },
     "execution_count": 43,
     "metadata": {},
     "output_type": "execute_result"
    }
   ],
   "source": [
    "evaluate_avg_f1_score(GaussianNB(), X[freqs], y_reduced)"
   ]
  },
  {
   "cell_type": "markdown",
   "id": "91073bee",
   "metadata": {},
   "source": [
    "### Remarks\n",
    "Like SVM and Logistic Regression, Naive Bayes performs very well when we make it very sensitive to any kind of movement.\n",
    "\n",
    "It seems that the challenge is distinguishing between intentional field disruptions and ambient movement outside of the main field. "
   ]
  },
  {
   "cell_type": "markdown",
   "id": "82ec9ab3",
   "metadata": {},
   "source": [
    "## Decision Tree, Multiclass"
   ]
  },
  {
   "cell_type": "code",
   "execution_count": 45,
   "id": "017b3e7b",
   "metadata": {},
   "outputs": [],
   "source": [
    "from sklearn.tree import DecisionTreeClassifier"
   ]
  },
  {
   "cell_type": "code",
   "execution_count": 46,
   "id": "7a48bed3",
   "metadata": {},
   "outputs": [
    {
     "name": "stdout",
     "output_type": "stream",
     "text": [
      "Accuracy:  0.9555555555555556\n",
      "              precision    recall  f1-score   support\n",
      "\n",
      "     AMBIENT       1.00      1.00      1.00        11\n",
      "    STANDING       1.00      0.60      0.75         5\n",
      "    WALKSIDE       1.00      1.00      1.00         4\n",
      "    WALKTHRU       0.93      1.00      0.96        25\n",
      "\n",
      "    accuracy                           0.96        45\n",
      "   macro avg       0.98      0.90      0.93        45\n",
      "weighted avg       0.96      0.96      0.95        45\n",
      "\n"
     ]
    },
    {
     "data": {
      "text/html": [
       "<div>\n",
       "<style scoped>\n",
       "    .dataframe tbody tr th:only-of-type {\n",
       "        vertical-align: middle;\n",
       "    }\n",
       "\n",
       "    .dataframe tbody tr th {\n",
       "        vertical-align: top;\n",
       "    }\n",
       "\n",
       "    .dataframe thead th {\n",
       "        text-align: right;\n",
       "    }\n",
       "</style>\n",
       "<table border=\"1\" class=\"dataframe\">\n",
       "  <thead>\n",
       "    <tr style=\"text-align: right;\">\n",
       "      <th></th>\n",
       "      <th>Guess AMBIENT</th>\n",
       "      <th>Guess STANDING</th>\n",
       "      <th>Guess WALKSIDE</th>\n",
       "      <th>Guess WALKTHRU</th>\n",
       "    </tr>\n",
       "  </thead>\n",
       "  <tbody>\n",
       "    <tr>\n",
       "      <th>True AMBIENT</th>\n",
       "      <td>11</td>\n",
       "      <td>0</td>\n",
       "      <td>0</td>\n",
       "      <td>0</td>\n",
       "    </tr>\n",
       "    <tr>\n",
       "      <th>True STANDING</th>\n",
       "      <td>0</td>\n",
       "      <td>3</td>\n",
       "      <td>0</td>\n",
       "      <td>2</td>\n",
       "    </tr>\n",
       "    <tr>\n",
       "      <th>True WALKSIDE</th>\n",
       "      <td>0</td>\n",
       "      <td>0</td>\n",
       "      <td>4</td>\n",
       "      <td>0</td>\n",
       "    </tr>\n",
       "    <tr>\n",
       "      <th>True WALKTHRU</th>\n",
       "      <td>0</td>\n",
       "      <td>0</td>\n",
       "      <td>0</td>\n",
       "      <td>25</td>\n",
       "    </tr>\n",
       "  </tbody>\n",
       "</table>\n",
       "</div>"
      ],
      "text/plain": [
       "               Guess AMBIENT  Guess STANDING  Guess WALKSIDE  Guess WALKTHRU\n",
       "True AMBIENT              11               0               0               0\n",
       "True STANDING              0               3               0               2\n",
       "True WALKSIDE              0               0               4               0\n",
       "True WALKTHRU              0               0               0              25"
      ]
     },
     "execution_count": 46,
     "metadata": {},
     "output_type": "execute_result"
    }
   ],
   "source": [
    "X = data.drop(['label', 'y'], axis=1)\n",
    "y = data['y']\n",
    "\n",
    "class_labels = ['AMBIENT', 'STANDING', 'WALKSIDE', 'WALKTHRU']\n",
    "\n",
    "evaluate_over_all_test_data(\n",
    "    DecisionTreeClassifier(),\n",
    "    X[freqs], \n",
    "    y, \n",
    "    class_labels\n",
    ")"
   ]
  },
  {
   "cell_type": "markdown",
   "id": "cf33a21c",
   "metadata": {},
   "source": [
    "### Remarks\n",
    "Very high accuracy, but worried it's overfitting the data - similar to the naive bayes classifier.\n",
    "However retraining the data on random data gives different accuracies - meaning the model is highly sensitive to the data it's trained on. This may indicate over fitting and high model variance (which is expected of a decision tree). "
   ]
  },
  {
   "cell_type": "code",
   "execution_count": 48,
   "id": "a35fb5eb",
   "metadata": {},
   "outputs": [
    {
     "name": "stdout",
     "output_type": "stream",
     "text": [
      "0.978\n",
      "0.978\n",
      "0.970\n",
      "0.978\n",
      "0.978\n",
      "0.978\n",
      "0.978\n",
      "0.978\n",
      "0.978\n",
      "0.978\n",
      "0.978\n",
      "0.978\n",
      "0.978\n",
      "0.978\n",
      "0.978\n",
      "0.969\n",
      "0.978\n",
      "0.978\n",
      "0.969\n",
      "0.978\n",
      "average score:  0.9766807050953392\n"
     ]
    }
   ],
   "source": [
    "# Run this multiple times since DecisionTree has high variance\n",
    "\n",
    "f1_scores = [\n",
    "    evaluate_avg_f1_score(DecisionTreeClassifier(), X[freqs], y)\n",
    "    for _ in range(20)\n",
    "]\n",
    "\n",
    "print('\\n'.join('%.3f'%score for score in f1_scores))\n",
    "\n",
    "print('average score: ', np.average(f1_scores))"
   ]
  },
  {
   "cell_type": "markdown",
   "id": "f438c5bc",
   "metadata": {},
   "source": [
    "## Decision Tree, Sensitive, Binary"
   ]
  },
  {
   "cell_type": "code",
   "execution_count": 49,
   "id": "b06ff8fa",
   "metadata": {},
   "outputs": [
    {
     "name": "stdout",
     "output_type": "stream",
     "text": [
      "Accuracy:  1.0\n",
      "              precision    recall  f1-score   support\n",
      "\n",
      "        IDLE       1.00      1.00      1.00        16\n",
      "        TRIG       1.00      1.00      1.00        29\n",
      "\n",
      "    accuracy                           1.00        45\n",
      "   macro avg       1.00      1.00      1.00        45\n",
      "weighted avg       1.00      1.00      1.00        45\n",
      "\n"
     ]
    },
    {
     "data": {
      "text/html": [
       "<div>\n",
       "<style scoped>\n",
       "    .dataframe tbody tr th:only-of-type {\n",
       "        vertical-align: middle;\n",
       "    }\n",
       "\n",
       "    .dataframe tbody tr th {\n",
       "        vertical-align: top;\n",
       "    }\n",
       "\n",
       "    .dataframe thead th {\n",
       "        text-align: right;\n",
       "    }\n",
       "</style>\n",
       "<table border=\"1\" class=\"dataframe\">\n",
       "  <thead>\n",
       "    <tr style=\"text-align: right;\">\n",
       "      <th></th>\n",
       "      <th>Guess IDLE</th>\n",
       "      <th>Guess TRIG</th>\n",
       "    </tr>\n",
       "  </thead>\n",
       "  <tbody>\n",
       "    <tr>\n",
       "      <th>True IDLE</th>\n",
       "      <td>16</td>\n",
       "      <td>0</td>\n",
       "    </tr>\n",
       "    <tr>\n",
       "      <th>True TRIG</th>\n",
       "      <td>0</td>\n",
       "      <td>29</td>\n",
       "    </tr>\n",
       "  </tbody>\n",
       "</table>\n",
       "</div>"
      ],
      "text/plain": [
       "           Guess IDLE  Guess TRIG\n",
       "True IDLE          16           0\n",
       "True TRIG           0          29"
      ]
     },
     "execution_count": 49,
     "metadata": {},
     "output_type": "execute_result"
    }
   ],
   "source": [
    "label2disrupted = {\n",
    "    'AMBIENT'  : 0,\n",
    "    'STANDING' : 0,\n",
    "    'WALKSIDE' : 1,\n",
    "    'WALKTHRU' : 1,\n",
    "}\n",
    "\n",
    "X = data.drop(['label', 'y'], axis=1)\n",
    "y = data['y']\n",
    "\n",
    "y_reduced = data['label'].apply(lambda x: label2disrupted[x])\n",
    "\n",
    "class_labels = ['IDLE', 'TRIG']\n",
    "\n",
    "evaluate_over_all_test_data(DecisionTreeClassifier(), X[freqs], y_reduced, class_labels)"
   ]
  },
  {
   "cell_type": "code",
   "execution_count": 50,
   "id": "2eac63e0",
   "metadata": {},
   "outputs": [
    {
     "name": "stdout",
     "output_type": "stream",
     "text": [
      "1.000\n",
      "1.000\n",
      "1.000\n",
      "1.000\n",
      "1.000\n",
      "1.000\n",
      "1.000\n",
      "1.000\n",
      "1.000\n",
      "1.000\n",
      "average score:  1.0\n"
     ]
    }
   ],
   "source": [
    "# Run this multiple times since DecisionTree has high variance\n",
    "\n",
    "f1_scores = [\n",
    "    evaluate_avg_f1_score(DecisionTreeClassifier(), X[freqs], y_reduced)\n",
    "    for _ in range(10)\n",
    "]\n",
    "\n",
    "print('\\n'.join('%.3f'%score for score in f1_scores))\n",
    "\n",
    "print('average score: ', np.average(f1_scores))"
   ]
  },
  {
   "cell_type": "markdown",
   "id": "646d51d5",
   "metadata": {},
   "source": [
    "### Remarks\n",
    "Exhibits 100% accuracy like the other models when it's trained to be sensitive to any field disturbances"
   ]
  },
  {
   "cell_type": "markdown",
   "id": "83f732fc",
   "metadata": {},
   "source": [
    "## Decision Tree, Less Sensitive, Binary"
   ]
  },
  {
   "cell_type": "code",
   "execution_count": 55,
   "id": "18bd4f45",
   "metadata": {},
   "outputs": [
    {
     "name": "stdout",
     "output_type": "stream",
     "text": [
      "Accuracy:  0.9777777777777777\n",
      "              precision    recall  f1-score   support\n",
      "\n",
      "        IDLE       1.00      0.95      0.97        20\n",
      "        TRIG       0.96      1.00      0.98        25\n",
      "\n",
      "    accuracy                           0.98        45\n",
      "   macro avg       0.98      0.97      0.98        45\n",
      "weighted avg       0.98      0.98      0.98        45\n",
      "\n"
     ]
    },
    {
     "data": {
      "text/html": [
       "<div>\n",
       "<style scoped>\n",
       "    .dataframe tbody tr th:only-of-type {\n",
       "        vertical-align: middle;\n",
       "    }\n",
       "\n",
       "    .dataframe tbody tr th {\n",
       "        vertical-align: top;\n",
       "    }\n",
       "\n",
       "    .dataframe thead th {\n",
       "        text-align: right;\n",
       "    }\n",
       "</style>\n",
       "<table border=\"1\" class=\"dataframe\">\n",
       "  <thead>\n",
       "    <tr style=\"text-align: right;\">\n",
       "      <th></th>\n",
       "      <th>Guess IDLE</th>\n",
       "      <th>Guess TRIG</th>\n",
       "    </tr>\n",
       "  </thead>\n",
       "  <tbody>\n",
       "    <tr>\n",
       "      <th>True IDLE</th>\n",
       "      <td>19</td>\n",
       "      <td>1</td>\n",
       "    </tr>\n",
       "    <tr>\n",
       "      <th>True TRIG</th>\n",
       "      <td>0</td>\n",
       "      <td>25</td>\n",
       "    </tr>\n",
       "  </tbody>\n",
       "</table>\n",
       "</div>"
      ],
      "text/plain": [
       "           Guess IDLE  Guess TRIG\n",
       "True IDLE          19           1\n",
       "True TRIG           0          25"
      ]
     },
     "execution_count": 55,
     "metadata": {},
     "output_type": "execute_result"
    }
   ],
   "source": [
    "label2disrupted = {\n",
    "    'AMBIENT'  : 0,\n",
    "    'STANDING' : 0,\n",
    "    'WALKSIDE' : 0,\n",
    "    'WALKTHRU' : 1,\n",
    "}\n",
    "\n",
    "X = data.drop(['label', 'y'], axis=1)\n",
    "y = data['y']\n",
    "\n",
    "y_reduced = data['label'].apply(lambda x: label2disrupted[x])\n",
    "\n",
    "class_labels = ['IDLE', 'TRIG']\n",
    "\n",
    "evaluate_over_all_test_data(DecisionTreeClassifier(), X[freqs], y_reduced, class_labels)"
   ]
  },
  {
   "cell_type": "code",
   "execution_count": 56,
   "id": "4c4409aa",
   "metadata": {},
   "outputs": [
    {
     "name": "stdout",
     "output_type": "stream",
     "text": [
      "0.991\n",
      "0.991\n",
      "0.991\n",
      "0.991\n",
      "0.991\n",
      "0.991\n",
      "0.982\n",
      "0.991\n",
      "0.991\n",
      "0.991\n",
      "average score:  0.9900795534941876\n"
     ]
    }
   ],
   "source": [
    "# Run this multiple times since DecisionTree has high variance\n",
    "\n",
    "f1_scores = [\n",
    "    evaluate_avg_f1_score(DecisionTreeClassifier(), X[freqs], y_reduced)\n",
    "    for _ in range(10)\n",
    "]\n",
    "\n",
    "print('\\n'.join('%.3f'%score for score in f1_scores))\n",
    "\n",
    "print('average score: ', np.average(f1_scores))"
   ]
  },
  {
   "cell_type": "markdown",
   "id": "2ac40eb6",
   "metadata": {},
   "source": [
    "### Remarks\n",
    "Has very good accuracy, but worried it's overfit to experimental setup and won't translate to an actual router scenario. "
   ]
  }
 ],
 "metadata": {
  "kernelspec": {
   "display_name": "Python 3 (ipykernel)",
   "language": "python",
   "name": "python3"
  },
  "language_info": {
   "codemirror_mode": {
    "name": "ipython",
    "version": 3
   },
   "file_extension": ".py",
   "mimetype": "text/x-python",
   "name": "python",
   "nbconvert_exporter": "python",
   "pygments_lexer": "ipython3",
   "version": "3.8.12"
  }
 },
 "nbformat": 4,
 "nbformat_minor": 5
}
