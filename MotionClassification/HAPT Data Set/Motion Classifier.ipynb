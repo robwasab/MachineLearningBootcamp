{
 "cells": [
  {
   "cell_type": "code",
   "execution_count": 1,
   "id": "ff8b5a81",
   "metadata": {},
   "outputs": [],
   "source": [
    "import pandas as pd\n",
    "import numpy as np"
   ]
  },
  {
   "cell_type": "code",
   "execution_count": 8,
   "id": "d1705c32",
   "metadata": {},
   "outputs": [],
   "source": [
    "pd.set_option('display.max_rows', None)"
   ]
  },
  {
   "cell_type": "code",
   "execution_count": 16,
   "id": "692f4326",
   "metadata": {},
   "outputs": [],
   "source": [
    "\n",
    "features = [line.strip() for line in open('features.txt', 'r').readlines()]\n",
    "\n",
    "activity_labels = pd.read_csv(\n",
    "    'activity_labels.txt', \n",
    "    sep=r'\\s+', \n",
    "    names=['type', 'str', 'dum']\n",
    ").drop(labels=['dum'], axis=1)\n",
    "\n",
    "\n",
    "X_test = pd.read_csv('Test/X_test.txt', sep=' ', names=features)\n",
    "\n",
    "y_test = pd.read_csv('Test/Y_test.txt', sep=' ', names=['type'])\n",
    "y_test_readable = y_test.merge(activity_labels)\n",
    "\n",
    "X_train = pd.read_csv('Train/X_train.txt', sep=' ', names=features)\n",
    "y_train = pd.read_csv('Train/Y_train.txt', sep=' ', names=['type'])\n"
   ]
  },
  {
   "cell_type": "code",
   "execution_count": 24,
   "id": "69a858da",
   "metadata": {},
   "outputs": [
    {
     "data": {
      "text/html": [
       "<div>\n",
       "<style scoped>\n",
       "    .dataframe tbody tr th:only-of-type {\n",
       "        vertical-align: middle;\n",
       "    }\n",
       "\n",
       "    .dataframe tbody tr th {\n",
       "        vertical-align: top;\n",
       "    }\n",
       "\n",
       "    .dataframe thead th {\n",
       "        text-align: right;\n",
       "    }\n",
       "</style>\n",
       "<table border=\"1\" class=\"dataframe\">\n",
       "  <thead>\n",
       "    <tr style=\"text-align: right;\">\n",
       "      <th></th>\n",
       "      <th>type</th>\n",
       "      <th>str</th>\n",
       "    </tr>\n",
       "  </thead>\n",
       "  <tbody>\n",
       "    <tr>\n",
       "      <th>0</th>\n",
       "      <td>1</td>\n",
       "      <td>WALKING</td>\n",
       "    </tr>\n",
       "    <tr>\n",
       "      <th>1</th>\n",
       "      <td>2</td>\n",
       "      <td>WALKING_UPSTAIRS</td>\n",
       "    </tr>\n",
       "    <tr>\n",
       "      <th>2</th>\n",
       "      <td>3</td>\n",
       "      <td>WALKING_DOWNSTAIRS</td>\n",
       "    </tr>\n",
       "    <tr>\n",
       "      <th>3</th>\n",
       "      <td>4</td>\n",
       "      <td>SITTING</td>\n",
       "    </tr>\n",
       "    <tr>\n",
       "      <th>4</th>\n",
       "      <td>5</td>\n",
       "      <td>STANDING</td>\n",
       "    </tr>\n",
       "    <tr>\n",
       "      <th>5</th>\n",
       "      <td>6</td>\n",
       "      <td>LAYING</td>\n",
       "    </tr>\n",
       "    <tr>\n",
       "      <th>6</th>\n",
       "      <td>7</td>\n",
       "      <td>STAND_TO_SIT</td>\n",
       "    </tr>\n",
       "    <tr>\n",
       "      <th>7</th>\n",
       "      <td>8</td>\n",
       "      <td>SIT_TO_STAND</td>\n",
       "    </tr>\n",
       "    <tr>\n",
       "      <th>8</th>\n",
       "      <td>9</td>\n",
       "      <td>SIT_TO_LIE</td>\n",
       "    </tr>\n",
       "    <tr>\n",
       "      <th>9</th>\n",
       "      <td>10</td>\n",
       "      <td>LIE_TO_SIT</td>\n",
       "    </tr>\n",
       "    <tr>\n",
       "      <th>10</th>\n",
       "      <td>11</td>\n",
       "      <td>STAND_TO_LIE</td>\n",
       "    </tr>\n",
       "    <tr>\n",
       "      <th>11</th>\n",
       "      <td>12</td>\n",
       "      <td>LIE_TO_STAND</td>\n",
       "    </tr>\n",
       "  </tbody>\n",
       "</table>\n",
       "</div>"
      ],
      "text/plain": [
       "    type                 str\n",
       "0      1             WALKING\n",
       "1      2    WALKING_UPSTAIRS\n",
       "2      3  WALKING_DOWNSTAIRS\n",
       "3      4             SITTING\n",
       "4      5            STANDING\n",
       "5      6              LAYING\n",
       "6      7        STAND_TO_SIT\n",
       "7      8        SIT_TO_STAND\n",
       "8      9          SIT_TO_LIE\n",
       "9     10          LIE_TO_SIT\n",
       "10    11        STAND_TO_LIE\n",
       "11    12        LIE_TO_STAND"
      ]
     },
     "execution_count": 24,
     "metadata": {},
     "output_type": "execute_result"
    }
   ],
   "source": [
    "activity_labels"
   ]
  },
  {
   "cell_type": "code",
   "execution_count": 26,
   "id": "69e6a89b",
   "metadata": {},
   "outputs": [],
   "source": [
    "from sklearn.svm import SVC, NuSVC, LinearSVC\n",
    "from sklearn.model_selection import GridSearchCV\n",
    "from sklearn.model_selection import train_test_split\n",
    "from sklearn.metrics import classification_report\n",
    "from sklearn.metrics import accuracy_score\n",
    "from sklearn.metrics import confusion_matrix"
   ]
  },
  {
   "cell_type": "markdown",
   "id": "ac6ee38c",
   "metadata": {},
   "source": [
    "Evaluate performance of SVC out of the box over all the data"
   ]
  },
  {
   "cell_type": "code",
   "execution_count": 28,
   "id": "a59f5e42",
   "metadata": {},
   "outputs": [],
   "source": [
    "svc_model = SVC()\n",
    "\n",
    "svc_model.fit(X_train, np.ravel(y_train))\n",
    "\n",
    "svc_y_pred = svc_model.predict(X_test)"
   ]
  },
  {
   "cell_type": "code",
   "execution_count": 29,
   "id": "189dc59b",
   "metadata": {},
   "outputs": [
    {
     "name": "stdout",
     "output_type": "stream",
     "text": [
      "              precision    recall  f1-score   support\n",
      "\n",
      "           1       0.93      0.99      0.96       496\n",
      "           2       0.92      0.95      0.94       471\n",
      "           3       0.99      0.91      0.95       420\n",
      "           4       0.93      0.89      0.91       508\n",
      "           5       0.91      0.95      0.93       556\n",
      "           6       1.00      1.00      1.00       545\n",
      "           7       0.86      0.78      0.82        23\n",
      "           8       1.00      0.80      0.89        10\n",
      "           9       0.64      0.88      0.74        32\n",
      "          10       0.67      0.72      0.69        25\n",
      "          11       0.82      0.55      0.66        49\n",
      "          12       0.71      0.56      0.63        27\n",
      "\n",
      "    accuracy                           0.94      3162\n",
      "   macro avg       0.87      0.83      0.84      3162\n",
      "weighted avg       0.94      0.94      0.94      3162\n",
      "\n",
      "[[489   4   3   0   0   0   0   0   0   0   0   0]\n",
      " [ 22 449   0   0   0   0   0   0   0   0   0   0]\n",
      " [ 10  26 384   0   0   0   0   0   0   0   0   0]\n",
      " [  0   3   0 454  51   0   0   0   0   0   0   0]\n",
      " [  0   0   0  29 527   0   0   0   0   0   0   0]\n",
      " [  0   0   0   0   0 545   0   0   0   0   0   0]\n",
      " [  0   2   0   2   0   0  18   0   1   0   0   0]\n",
      " [  0   0   0   0   0   0   2   8   0   0   0   0]\n",
      " [  0   0   0   0   0   0   0   0  28   0   4   0]\n",
      " [  0   0   0   0   0   0   0   0   1  18   0   6]\n",
      " [  1   2   0   2   0   2   1   0  14   0  27   0]\n",
      " [  1   0   0   0   0   0   0   0   0   9   2  15]]\n"
     ]
    }
   ],
   "source": [
    "print(classification_report(y_test, y_pred))\n",
    "print(confusion_matrix(y_test, y_pred))"
   ]
  },
  {
   "cell_type": "markdown",
   "id": "6428984a",
   "metadata": {},
   "source": [
    "<p>\n",
    "    Performance from:\n",
    "    \n",
    "    Davide Anguita, Alessandro Ghio, Luca Oneto, Xavier Parra and Jorge L. Reyes-Ortiz. Human Activity Recognition on Smartphones using a Multiclass Hardware-Friendly Support Vector Machine. International Workshop of Ambient Assisted Living (IWAAL 2012). Vitoria-Gasteiz, Spain. Dec 2012\n",
    "    \n",
    "</p>\n",
    "<img src='benchmark.png'/>\n",
    "\n",
    "The sci-kit SVM classifier out of the box seems to perform better than what was reported in the paper the original data came from.\n",
    "\n",
    "Possible reasons are:\n",
    "* This SVM uses RBF kernel\n",
    "* Using 1 to 1 comparisons to make classifications. Paper uses 1 to many."
   ]
  },
  {
   "cell_type": "code",
   "execution_count": 41,
   "id": "737c4790",
   "metadata": {},
   "outputs": [
    {
     "data": {
      "text/plain": [
       "GridSearchCV(cv=5, estimator=SVC(),\n",
       "             param_grid={'C': [1], 'kernel': ['poly', 'rbf', 'sigmoid']})"
      ]
     },
     "execution_count": 41,
     "metadata": {},
     "output_type": "execute_result"
    }
   ],
   "source": [
    "grid_search = GridSearchCV(\n",
    "    estimator=SVC(),\n",
    "    param_grid={\n",
    "        'C':[1],\n",
    "        'kernel':['poly', 'rbf', 'sigmoid']\n",
    "    },\n",
    "    cv=5,\n",
    ")\n",
    "\n",
    "grid_search.fit(X_train, np.ravel(y_train))"
   ]
  },
  {
   "cell_type": "code",
   "execution_count": 42,
   "id": "ca92603a",
   "metadata": {},
   "outputs": [
    {
     "name": "stdout",
     "output_type": "stream",
     "text": [
      "Best Params:  {'C': 1, 'kernel': 'poly'}\n",
      "Best score :  0.9326698605513801\n"
     ]
    },
    {
     "data": {
      "text/html": [
       "<div>\n",
       "<style scoped>\n",
       "    .dataframe tbody tr th:only-of-type {\n",
       "        vertical-align: middle;\n",
       "    }\n",
       "\n",
       "    .dataframe tbody tr th {\n",
       "        vertical-align: top;\n",
       "    }\n",
       "\n",
       "    .dataframe thead th {\n",
       "        text-align: right;\n",
       "    }\n",
       "</style>\n",
       "<table border=\"1\" class=\"dataframe\">\n",
       "  <thead>\n",
       "    <tr style=\"text-align: right;\">\n",
       "      <th></th>\n",
       "      <th>stds</th>\n",
       "      <th>means</th>\n",
       "      <th>C</th>\n",
       "      <th>kernel</th>\n",
       "    </tr>\n",
       "  </thead>\n",
       "  <tbody>\n",
       "    <tr>\n",
       "      <th>0</th>\n",
       "      <td>0.020992</td>\n",
       "      <td>0.932670</td>\n",
       "      <td>1</td>\n",
       "      <td>poly</td>\n",
       "    </tr>\n",
       "    <tr>\n",
       "      <th>1</th>\n",
       "      <td>0.019589</td>\n",
       "      <td>0.919021</td>\n",
       "      <td>1</td>\n",
       "      <td>rbf</td>\n",
       "    </tr>\n",
       "    <tr>\n",
       "      <th>2</th>\n",
       "      <td>0.019317</td>\n",
       "      <td>0.782805</td>\n",
       "      <td>1</td>\n",
       "      <td>sigmoid</td>\n",
       "    </tr>\n",
       "  </tbody>\n",
       "</table>\n",
       "</div>"
      ],
      "text/plain": [
       "       stds     means  C   kernel\n",
       "0  0.020992  0.932670  1     poly\n",
       "1  0.019589  0.919021  1      rbf\n",
       "2  0.019317  0.782805  1  sigmoid"
      ]
     },
     "execution_count": 42,
     "metadata": {},
     "output_type": "execute_result"
    }
   ],
   "source": [
    "def print_results(gs):\n",
    "    print('Best Params: ', gs.best_params_)\n",
    "    print('Best score : ', gs.best_score_)\n",
    "    \n",
    "    means = gs.cv_results_['mean_test_score']\n",
    "    stds  = gs.cv_results_['std_test_score']\n",
    "    params= gs.cv_results_['params']\n",
    "    \n",
    "    #for m, s, p in zip(means, stds, params):\n",
    "    #    print('%.3f %.3f %s' %(m, s, p))\n",
    "    \n",
    "    df = pd.DataFrame(params)\n",
    "    df.insert(0, 'means', means)\n",
    "    \n",
    "    df.insert(0, 'stds', stds)\n",
    "\n",
    "    return df\n",
    "\n",
    "print_results(grid_search)"
   ]
  },
  {
   "cell_type": "code",
   "execution_count": 43,
   "id": "3e16fd49",
   "metadata": {},
   "outputs": [
    {
     "data": {
      "text/plain": [
       "GridSearchCV(cv=5, estimator=SVC(),\n",
       "             param_grid={'C': [0.1, 0.5, 1], 'kernel': ['poly']})"
      ]
     },
     "execution_count": 43,
     "metadata": {},
     "output_type": "execute_result"
    }
   ],
   "source": [
    "grid_search = GridSearchCV(\n",
    "    estimator=SVC(),\n",
    "    param_grid={\n",
    "        'C':[0.1, 0.5, 1],\n",
    "        'kernel':['poly']\n",
    "    },\n",
    "    cv=5,\n",
    ")\n",
    "\n",
    "grid_search.fit(X_train, np.ravel(y_train))"
   ]
  },
  {
   "cell_type": "code",
   "execution_count": 44,
   "id": "f8854339",
   "metadata": {},
   "outputs": [
    {
     "name": "stdout",
     "output_type": "stream",
     "text": [
      "Best Params:  {'C': 1, 'kernel': 'poly'}\n",
      "Best score :  0.9326698605513801\n"
     ]
    },
    {
     "data": {
      "text/html": [
       "<div>\n",
       "<style scoped>\n",
       "    .dataframe tbody tr th:only-of-type {\n",
       "        vertical-align: middle;\n",
       "    }\n",
       "\n",
       "    .dataframe tbody tr th {\n",
       "        vertical-align: top;\n",
       "    }\n",
       "\n",
       "    .dataframe thead th {\n",
       "        text-align: right;\n",
       "    }\n",
       "</style>\n",
       "<table border=\"1\" class=\"dataframe\">\n",
       "  <thead>\n",
       "    <tr style=\"text-align: right;\">\n",
       "      <th></th>\n",
       "      <th>stds</th>\n",
       "      <th>means</th>\n",
       "      <th>C</th>\n",
       "      <th>kernel</th>\n",
       "    </tr>\n",
       "  </thead>\n",
       "  <tbody>\n",
       "    <tr>\n",
       "      <th>0</th>\n",
       "      <td>0.017392</td>\n",
       "      <td>0.907948</td>\n",
       "      <td>0.1</td>\n",
       "      <td>poly</td>\n",
       "    </tr>\n",
       "    <tr>\n",
       "      <th>1</th>\n",
       "      <td>0.020680</td>\n",
       "      <td>0.928936</td>\n",
       "      <td>0.5</td>\n",
       "      <td>poly</td>\n",
       "    </tr>\n",
       "    <tr>\n",
       "      <th>2</th>\n",
       "      <td>0.020992</td>\n",
       "      <td>0.932670</td>\n",
       "      <td>1.0</td>\n",
       "      <td>poly</td>\n",
       "    </tr>\n",
       "  </tbody>\n",
       "</table>\n",
       "</div>"
      ],
      "text/plain": [
       "       stds     means    C kernel\n",
       "0  0.017392  0.907948  0.1   poly\n",
       "1  0.020680  0.928936  0.5   poly\n",
       "2  0.020992  0.932670  1.0   poly"
      ]
     },
     "execution_count": 44,
     "metadata": {},
     "output_type": "execute_result"
    }
   ],
   "source": [
    "print_results(grid_search)"
   ]
  },
  {
   "cell_type": "markdown",
   "id": "e9bf8bee",
   "metadata": {},
   "source": [
    "Polynomial Kernel"
   ]
  }
 ],
 "metadata": {
  "kernelspec": {
   "display_name": "Python 3 (ipykernel)",
   "language": "python",
   "name": "python3"
  },
  "language_info": {
   "codemirror_mode": {
    "name": "ipython",
    "version": 3
   },
   "file_extension": ".py",
   "mimetype": "text/x-python",
   "name": "python",
   "nbconvert_exporter": "python",
   "pygments_lexer": "ipython3",
   "version": "3.7.1"
  }
 },
 "nbformat": 4,
 "nbformat_minor": 5
}
